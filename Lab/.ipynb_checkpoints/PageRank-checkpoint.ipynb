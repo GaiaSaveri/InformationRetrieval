{
 "cells": [
  {
   "cell_type": "markdown",
   "metadata": {},
   "source": [
    "# A simple PageRank implementation"
   ]
  },
  {
   "cell_type": "code",
   "execution_count": 1,
   "metadata": {},
   "outputs": [],
   "source": [
    "import json\n",
    "import numpy as np"
   ]
  },
  {
   "cell_type": "code",
   "execution_count": 2,
   "metadata": {},
   "outputs": [],
   "source": [
    "def read_graph(filename):\n",
    "    with open(filename, 'r') as f:\n",
    "        g = json.load(f)\n",
    "    return g "
   ]
  },
  {
   "cell_type": "code",
   "execution_count": 4,
   "metadata": {},
   "outputs": [],
   "source": [
    "G = read_graph('collections/example.json')"
   ]
  },
  {
   "cell_type": "markdown",
   "metadata": {},
   "source": [
    "We have a transition matrix and a jump vector. \n",
    "\n",
    "Computation of the transition matrix given by the graph:"
   ]
  },
  {
   "cell_type": "code",
   "execution_count": 5,
   "metadata": {},
   "outputs": [],
   "source": [
    "def compute_R(graph):\n",
    "    #number of elements in the graph\n",
    "    n = len(graph.keys())\n",
    "    key_to_pos = dict(zip(graph.keys(), range(0, n)))\n",
    "    R = np.zeros((n,n))\n",
    "    for i, source in enumerate(graph.keys()):\n",
    "        #need to compute the out-degree\n",
    "        out_deg = len(graph[source])\n",
    "        #for each connected node\n",
    "        for dest in graph[source]:\n",
    "            j = key_to_pos[dest]\n",
    "            R[i][j] = 1/out_deg\n",
    "    return R"
   ]
  },
  {
   "cell_type": "code",
   "execution_count": 7,
   "metadata": {},
   "outputs": [
    {
     "data": {
      "text/plain": [
       "array([[0.        , 0.33333333, 0.33333333, 0.33333333, 0.        ,\n",
       "        0.        ],\n",
       "       [0.        , 0.        , 0.        , 0.        , 0.5       ,\n",
       "        0.5       ],\n",
       "       [0.        , 0.        , 0.        , 0.        , 1.        ,\n",
       "        0.        ],\n",
       "       [1.        , 0.        , 0.        , 0.        , 0.        ,\n",
       "        0.        ],\n",
       "       [0.        , 0.        , 0.        , 1.        , 0.        ,\n",
       "        0.        ],\n",
       "       [1.        , 0.        , 0.        , 0.        , 0.        ,\n",
       "        0.        ]])"
      ]
     },
     "execution_count": 7,
     "metadata": {},
     "output_type": "execute_result"
    }
   ],
   "source": [
    "R = compute_R(G)\n",
    "R"
   ]
  },
  {
   "cell_type": "markdown",
   "metadata": {},
   "source": [
    "It can be solved in analytic way, but more often it is solved in iterative way."
   ]
  },
  {
   "cell_type": "code",
   "execution_count": 8,
   "metadata": {},
   "outputs": [],
   "source": [
    "def PageRank_iteration(x, R, J, alpha):\n",
    "    n = len(x)\n",
    "    one = np.mat(np.ones(n)).T\n",
    "    P = alpha * one * J  + (1 - alpha) * R \n",
    "    x_prime = x * P\n",
    "    return x_prime"
   ]
  },
  {
   "cell_type": "code",
   "execution_count": 11,
   "metadata": {},
   "outputs": [],
   "source": [
    "def compute_PageRank(graph, alpha, epsilon):\n",
    "    n = len(graph.keys())\n",
    "    R = compute_R(graph)\n",
    "    #jump vector --> we jump with equal probability \n",
    "    J = np.ones(n)/n #needs to be changed for topic specific page rank\n",
    "    #we converge independently from where we start\n",
    "    #x = np.ones(n)/n\n",
    "    #we choose a random starting point\n",
    "    x = np.random.rand(n)\n",
    "    x = x/x.sum()\n",
    "    err = np.inf\n",
    "    while (err > epsilon):\n",
    "        x_new = PageRank_iteration(x, R, J, alpha)\n",
    "        err = (abs(x_new - x)).sum()\n",
    "        print(f\"Error: {err}\")\n",
    "        x = x_new\n",
    "    print(\"PageRank scores: \")\n",
    "    for i,k in enumerate(graph.keys()):\n",
    "        print(f\"{k}: {x[0,i]}\")\n",
    "    return x   "
   ]
  },
  {
   "cell_type": "code",
   "execution_count": 12,
   "metadata": {},
   "outputs": [
    {
     "name": "stdout",
     "output_type": "stream",
     "text": [
      "Error: 1.3550848156265085\n",
      "Error: 1.2195763340638577\n",
      "Error: 0.9269288195814747\n",
      "Error: 0.7472273904448014\n",
      "Error: 0.6304177925964727\n",
      "Error: 0.5017387772340801\n",
      "Error: 0.38350367532570695\n",
      "Error: 0.3040016534881473\n",
      "Error: 0.2493932877652729\n",
      "Error: 0.20008015576136626\n",
      "Error: 0.15620836748841202\n",
      "Error: 0.12344810001887507\n",
      "Error: 0.09967998834826308\n",
      "Error: 0.07998796545277038\n",
      "Error: 0.06315880765631122\n",
      "Error: 0.049982781299125936\n",
      "Error: 0.040034360442340114\n",
      "Error: 0.03206160788730361\n",
      "Error: 0.025455616243241094\n",
      "Error: 0.02018931074100605\n",
      "Error: 0.01611080297047751\n",
      "Error: 0.012876066993947916\n",
      "Error: 0.010247630455591988\n",
      "Error: 0.00814217891603998\n",
      "PageRank scores: \n",
      "a: 0.30260013611958203\n",
      "b: 0.10810777165546351\n",
      "c: 0.10810777165546351\n",
      "d: 0.2547270322865427\n",
      "e: 0.16150963287887854\n",
      "f: 0.06494765540407064\n"
     ]
    },
    {
     "data": {
      "text/plain": [
       "matrix([[0.30260014, 0.10810777, 0.10810777, 0.25472703, 0.16150963,\n",
       "         0.06494766]])"
      ]
     },
     "execution_count": 12,
     "metadata": {},
     "output_type": "execute_result"
    }
   ],
   "source": [
    "#alpha --> how important is the jump vector\n",
    "compute_PageRank(G, 0.1, 0.01)"
   ]
  }
 ],
 "metadata": {
  "kernelspec": {
   "display_name": "Python 3",
   "language": "python",
   "name": "python3"
  },
  "language_info": {
   "codemirror_mode": {
    "name": "ipython",
    "version": 3
   },
   "file_extension": ".py",
   "mimetype": "text/x-python",
   "name": "python",
   "nbconvert_exporter": "python",
   "pygments_lexer": "ipython3",
   "version": "3.7.3"
  }
 },
 "nbformat": 4,
 "nbformat_minor": 4
}
