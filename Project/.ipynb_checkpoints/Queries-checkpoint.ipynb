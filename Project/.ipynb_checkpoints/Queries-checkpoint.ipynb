{
 "cells": [
  {
   "cell_type": "markdown",
   "metadata": {},
   "source": [
    "## Queries"
   ]
  },
  {
   "cell_type": "code",
   "execution_count": 1,
   "metadata": {},
   "outputs": [],
   "source": [
    "import os\n",
    "import re\n",
    "import matplotlib.pyplot as plt\n",
    "import numpy as np\n",
    "import random"
   ]
  },
  {
   "cell_type": "markdown",
   "metadata": {},
   "source": [
    "### Generate simple queries\n",
    "\n",
    "Queries of the form:\n",
    "    \n",
    "* $term_1 \\ AND/OR \\ term_2$ which runs in $O(n+m)$, being $n$ the length of the posting list of $term_1$ and $m$ the length of the posting list of $term_2$\n",
    "\n",
    "\n",
    "* $NOT term$"
   ]
  },
  {
   "cell_type": "code",
   "execution_count": 2,
   "metadata": {},
   "outputs": [],
   "source": [
    "all_words = []\n",
    "path = 'data/words.txt'\n",
    "with open(path, 'r') as f:\n",
    "    text = f.read()\n",
    "    words = text.split()\n",
    "    for w in words:\n",
    "        all_words.append(w)\n",
    "#remove duplicates\n",
    "all_words = list(set(all_words))"
   ]
  },
  {
   "cell_type": "code",
   "execution_count": 3,
   "metadata": {},
   "outputs": [],
   "source": [
    "stopwords = 'data/stopwords'\n",
    "with open(stopwords, 'r') as f:\n",
    "    stop = f.read()\n",
    "    stops = stop.split()\n",
    "for s in stops:\n",
    "    if(s in all_words):\n",
    "        all_words.remove(s)"
   ]
  },
  {
   "cell_type": "code",
   "execution_count": 4,
   "metadata": {},
   "outputs": [],
   "source": [
    "pairs = []\n",
    "for i in range(1000):\n",
    "    current_pair = []\n",
    "    word1 = random.choice(all_words)\n",
    "    current_pair.append(word1)\n",
    "    word2 = random.choice(all_words)\n",
    "    while (word2 == word1):\n",
    "        word2 = random.choice(all_words)\n",
    "    current_pair.append(word2)\n",
    "    pairs.append(current_pair)"
   ]
  },
  {
   "cell_type": "code",
   "execution_count": 5,
   "metadata": {},
   "outputs": [],
   "source": [
    "operators = [\"AND\", \"OR\"]\n",
    "for i in pairs:\n",
    "    op = random.choice(operators)\n",
    "    i.insert(1, op)"
   ]
  },
  {
   "cell_type": "code",
   "execution_count": 6,
   "metadata": {},
   "outputs": [],
   "source": [
    "not_pairs = []\n",
    "for i in range(150):\n",
    "    word1 = random.choice(all_words)\n",
    "    not_pairs.append([\"NOT\", word1])\n",
    "\n",
    "#remove duplicates\n",
    "not_pairs = list(set(tuple(i) for i in not_pairs))"
   ]
  },
  {
   "cell_type": "code",
   "execution_count": 7,
   "metadata": {},
   "outputs": [],
   "source": [
    "strings = []\n",
    "for i in pairs:\n",
    "    string = ' '.join(map(str, i))\n",
    "    strings.append(string)\n",
    "\n",
    "not_strings = []\n",
    "for i in not_pairs:\n",
    "    string = ' '.join(map(str,i))\n",
    "    not_strings.append(string)"
   ]
  },
  {
   "cell_type": "code",
   "execution_count": 8,
   "metadata": {},
   "outputs": [],
   "source": [
    "for i in not_strings:\n",
    "    strings.append(i)"
   ]
  },
  {
   "cell_type": "code",
   "execution_count": 9,
   "metadata": {},
   "outputs": [],
   "source": [
    "with open('data/simple_queries.txt', 'w') as f:\n",
    "    for s in strings:\n",
    "        f.write(\"%s\\n\" % s)"
   ]
  },
  {
   "cell_type": "markdown",
   "metadata": {},
   "source": [
    "### Complex queries"
   ]
  },
  {
   "cell_type": "code",
   "execution_count": 10,
   "metadata": {},
   "outputs": [],
   "source": [
    "ops = [\"AND\", \"OR\", \"AND NOT\", \"OR NOT\"]\n",
    "\n",
    "def n_distinct_words(n, all_words):\n",
    "    words = []\n",
    "    for i in range(200):\n",
    "        s = set()\n",
    "        while(len(s)!=n):\n",
    "            s.add(random.choice(all_words))\n",
    "        words.append(list(s))\n",
    "    return words"
   ]
  },
  {
   "cell_type": "markdown",
   "metadata": {},
   "source": [
    "1. Queries of the form $a \\ op_1 \\ (b \\ op_2 \\ c)$"
   ]
  },
  {
   "cell_type": "code",
   "execution_count": 11,
   "metadata": {
    "scrolled": true
   },
   "outputs": [],
   "source": [
    "words_3 = n_distinct_words(3, all_words)\n",
    "queries_1 = []\n",
    "for w in words_3:\n",
    "    current_query = []\n",
    "    current_query.append(w[0])\n",
    "    current_query.append(random.choice(ops))\n",
    "    current_query.append(\"(\")\n",
    "    current_query.append(w[1])\n",
    "    current_query.append(random.choice(ops))\n",
    "    current_query.append(w[2])\n",
    "    current_query.append(\")\")\n",
    "    queries_1.append(current_query)\n",
    "\n",
    "form_1 = []\n",
    "for q in queries_1:\n",
    "    string = ' '.join(map(str,q))\n",
    "    form_1.append(string)"
   ]
  },
  {
   "cell_type": "markdown",
   "metadata": {},
   "source": [
    "2. Queries of the form $NOT \\ a \\ op_1 (b \\ op_2 \\ c)$"
   ]
  },
  {
   "cell_type": "code",
   "execution_count": 12,
   "metadata": {},
   "outputs": [],
   "source": [
    "queries_2 = []\n",
    "for w in words_3:\n",
    "    current_query = []\n",
    "    current_query.append(\"NOT\")\n",
    "    current_query.append(w[0])\n",
    "    current_query.append(random.choice(ops))\n",
    "    current_query.append(\"(\")\n",
    "    current_query.append(w[1])\n",
    "    current_query.append(random.choice(ops))\n",
    "    current_query.append(w[2])\n",
    "    current_query.append(\")\")\n",
    "    queries_2.append(current_query)\n",
    "\n",
    "form_2 = []\n",
    "for q in queries_2:\n",
    "    string = ' '.join(map(str,q))\n",
    "    form_2.append(string)"
   ]
  },
  {
   "cell_type": "markdown",
   "metadata": {},
   "source": [
    "3. Queries of the form $(a \\ op_1 \\ b) \\ op_2 \\ (c \\ op_3 \\ d)$"
   ]
  },
  {
   "cell_type": "code",
   "execution_count": 13,
   "metadata": {},
   "outputs": [],
   "source": [
    "words_4 = n_distinct_words(4, all_words)\n",
    "queries_3 = []\n",
    "for w in words_4:\n",
    "    current_query = []\n",
    "    current_query.append(\"(\")\n",
    "    current_query.append(w[0])\n",
    "    current_query.append(random.choice(ops))\n",
    "    current_query.append(w[1])\n",
    "    current_query.append(\")\")\n",
    "    current_query.append(random.choice(ops))\n",
    "    current_query.append(\"(\")\n",
    "    current_query.append(w[2])\n",
    "    current_query.append(random.choice(ops))\n",
    "    current_query.append(w[3])\n",
    "    current_query.append(\")\")\n",
    "    queries_3.append(current_query)\n",
    "\n",
    "form_3 = []\n",
    "for q in queries_3:\n",
    "    string = ' '.join(map(str, q))\n",
    "    form_3.append(string)"
   ]
  },
  {
   "cell_type": "markdown",
   "metadata": {},
   "source": [
    "4. Queries of the form $a \\ op_1 \\ ( b \\ op_2 \\ (c \\ op_3 \\ d))$"
   ]
  },
  {
   "cell_type": "code",
   "execution_count": 14,
   "metadata": {},
   "outputs": [],
   "source": [
    "queries_4 = []\n",
    "for w in words_4:\n",
    "    current_query = []\n",
    "    current_query.append(w[0])\n",
    "    current_query.append(random.choice(ops))\n",
    "    current_query.append(\"(\")\n",
    "    current_query.append(w[1])\n",
    "    current_query.append(random.choice(ops))\n",
    "    current_query.append(\"(\")\n",
    "    current_query.append(w[2])\n",
    "    current_query.append(random.choice(ops))\n",
    "    current_query.append(w[3])\n",
    "    current_query.append(\")\")\n",
    "    current_query.append(\")\")\n",
    "    queries_4.append(current_query)\n",
    "\n",
    "form_4 = []\n",
    "for q in queries_4:\n",
    "    string = ' '.join(map(str,q))\n",
    "    form_4.append(string)"
   ]
  },
  {
   "cell_type": "markdown",
   "metadata": {},
   "source": [
    "5. Queries of the form $(a \\ op_1 \\ (b \\ op_2 c )) \\ op_3 \\ ((d \\ op_4 \\ e) \\ op_5 \\ f)$"
   ]
  },
  {
   "cell_type": "code",
   "execution_count": 15,
   "metadata": {},
   "outputs": [],
   "source": [
    "words_6 = n_distinct_words(6, all_words)\n",
    "queries_5 = []\n",
    "for w in words_6:\n",
    "    current_query = []\n",
    "    current_query.append(\"(\")\n",
    "    current_query.append(w[0])\n",
    "    current_query.append(random.choice(ops))\n",
    "    current_query.append(\"(\")\n",
    "    current_query.append(w[1])\n",
    "    current_query.append(random.choice(ops))\n",
    "    current_query.append(w[2])\n",
    "    current_query.append(\")\")\n",
    "    current_query.append(\")\")\n",
    "    current_query.append(random.choice(ops))\n",
    "    current_query.append(\"(\")\n",
    "    current_query.append(\"(\")\n",
    "    current_query.append(w[3])\n",
    "    current_query.append(random.choice(ops))\n",
    "    current_query.append(w[4])\n",
    "    current_query.append(\")\")\n",
    "    current_query.append(random.choice(ops))\n",
    "    current_query.append(w[5])\n",
    "    current_query.append(\")\")\n",
    "    queries_5.append(current_query)\n",
    "    \n",
    "form_5 = []\n",
    "for q in queries_5:\n",
    "    string = ' '.join(map(str,q))\n",
    "    form_5.append(string)"
   ]
  },
  {
   "cell_type": "code",
   "execution_count": 16,
   "metadata": {},
   "outputs": [],
   "source": [
    "all_queries = form_1 + form_2 + form_3 + form_4 + form_5\n",
    "random.shuffle(all_queries)"
   ]
  },
  {
   "cell_type": "code",
   "execution_count": 17,
   "metadata": {},
   "outputs": [],
   "source": [
    "with open('data/complex_queries.txt', 'w') as f:\n",
    "    for s in all_queries:\n",
    "        f.write(\"%s\\n\" % s)"
   ]
  }
 ],
 "metadata": {
  "kernelspec": {
   "display_name": "Python 3",
   "language": "python",
   "name": "python3"
  },
  "language_info": {
   "codemirror_mode": {
    "name": "ipython",
    "version": 3
   },
   "file_extension": ".py",
   "mimetype": "text/x-python",
   "name": "python",
   "nbconvert_exporter": "python",
   "pygments_lexer": "ipython3",
   "version": "3.7.3"
  }
 },
 "nbformat": 4,
 "nbformat_minor": 4
}
